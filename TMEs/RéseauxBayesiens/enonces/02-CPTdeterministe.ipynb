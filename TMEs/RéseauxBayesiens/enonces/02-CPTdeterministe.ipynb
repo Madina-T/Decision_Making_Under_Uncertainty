{
 "cells": [
  {
   "cell_type": "code",
   "execution_count": 2,
   "metadata": {
    "jupyter": {
     "outputs_hidden": true
    }
   },
   "outputs": [],
   "source": [
    "import pyAgrum as gum\n",
    "import pyAgrum.lib.notebook as gnb\n",
    "#from pyAgrum.lib.pretty_print import pretty_cpt\n",
    "\n",
    "from IPython.display import display, Math, Latex"
   ]
  },
  {
   "cell_type": "markdown",
   "metadata": {},
   "source": [
    "# Exercice 2\n",
    "\n",
    "On lance 2 dés (équilibrés). Déterminer, grâce à un réseau bayésien la loi de probabilité du maximum des chiffres indiqués par les 2 dés.\n",
    "\n",
    "PS- on peut représenter des dépendances fonctionnelles entre variables par des CPTs ne contenant que des probabilités $0$ ou $1$"
   ]
  },
  {
   "cell_type": "code",
   "execution_count": 2,
   "metadata": {
    "jupyter": {
     "outputs_hidden": true
    }
   },
   "outputs": [],
   "source": [
    "bn=gum.BayesNet()\n",
    "\n",
    "d1=bn.add(gum.RangeVariable(\"D1\",\"Dé 1\",1,6))\n",
    "d2=bn.add(gum.RangeVariable(\"D2\",\"Dé 2\",1,6))"
   ]
  },
  {
   "cell_type": "code",
   "execution_count": 3,
   "metadata": {},
   "outputs": [],
   "source": [
    "m=bn.addMAX(gum.RangeVariable(\"M\",\"Max(D1,D2)\",1,6))"
   ]
  },
  {
   "cell_type": "code",
   "execution_count": 4,
   "metadata": {},
   "outputs": [
    {
     "data": {
      "text/html": [
       "<table>\n",
       "<tr style='color:black;background-color:#AAAAAA'><th colspan='6'><center>D2</center></th></tr>\n",
       "<tr><th style='color:black;background-color:#BBBBBB'><center>1</center></th><th style='color:black;background-color:#BBBBBB'><center>2</center></th><th style='color:black;background-color:#BBBBBB'><center>3</center></th><th style='color:black;background-color:#BBBBBB'><center>4</center></th><th style='color:black;background-color:#BBBBBB'><center>5</center></th><th style='color:black;background-color:#BBBBBB'><center>6</center></th></tr>\n",
       "<tr><td style='color:black;background-color:#e99464;text-align:right;'>0.1667</td><td style='color:black;background-color:#e99464;text-align:right;'>0.1667</td><td style='color:black;background-color:#e99464;text-align:right;'>0.1667</td><td style='color:black;background-color:#e99464;text-align:right;'>0.1667</td><td style='color:black;background-color:#e99464;text-align:right;'>0.1667</td><td style='color:black;background-color:#e99464;text-align:right;'>0.1667</td></tr>\n",
       "</table>"
      ],
      "text/plain": [
       "(gum::Potential<double>@0x368a2b0) <D2:1> :: 0.166667 /<D2:2> :: 0.166667 /<D2:3> :: 0.166667 /<D2:4> :: 0.166667 /<D2:5> :: 0.166667 /<D2:6> :: 0.166667"
      ]
     },
     "execution_count": 4,
     "metadata": {},
     "output_type": "execute_result"
    }
   ],
   "source": [
    "bn.addArc(d1,m)\n",
    "bn.addArc(d2,m)\n",
    "\n",
    "bn.cpt(d1).fillWith([1]*6).normalize()\n",
    "bn.cpt(d2).fillWith([1]*6).normalize()"
   ]
  },
  {
   "cell_type": "code",
   "execution_count": 5,
   "metadata": {},
   "outputs": [
    {
     "data": {
      "image/svg+xml": [
       "<svg height=\"116pt\" viewBox=\"0.00 0.00 134.00 116.00\" width=\"134pt\" xmlns=\"http://www.w3.org/2000/svg\" xmlns:xlink=\"http://www.w3.org/1999/xlink\">\n",
       "<g class=\"graph\" id=\"graph0\" transform=\"scale(1 1) rotate(0) translate(4 112)\">\n",
       "<title>G</title>\n",
       "<!-- D1 -->\n",
       "<g class=\"node\" id=\"node1\"><title>D1</title>\n",
       "<g id=\"a_node1\"><a xlink:title=\"(0) D1\">\n",
       "<ellipse cx=\"27\" cy=\"-90\" fill=\"#404040\" rx=\"27\" ry=\"18\" stroke=\"black\"/>\n",
       "<text fill=\"#ffffff\" font-family=\"Times,serif\" font-size=\"14.00\" text-anchor=\"middle\" x=\"27\" y=\"-86.3\">D1</text>\n",
       "</a>\n",
       "</g>\n",
       "</g>\n",
       "<!-- M -->\n",
       "<g class=\"node\" id=\"node3\"><title>M</title>\n",
       "<g id=\"a_node3\"><a xlink:title=\"(2) M\">\n",
       "<ellipse cx=\"63\" cy=\"-18\" fill=\"#404040\" rx=\"27\" ry=\"18\" stroke=\"black\"/>\n",
       "<text fill=\"#ffffff\" font-family=\"Times,serif\" font-size=\"14.00\" text-anchor=\"middle\" x=\"63\" y=\"-14.3\">M</text>\n",
       "</a>\n",
       "</g>\n",
       "</g>\n",
       "<!-- D1&#45;&gt;M -->\n",
       "<g class=\"edge\" id=\"edge2\"><title>D1-&gt;M</title>\n",
       "<g id=\"a_edge2\"><a xlink:title=\"(0, 2) : \">\n",
       "<path d=\"M35.3496,-72.7646C39.7115,-64.2831 45.1469,-53.7144 50.0413,-44.1974\" fill=\"none\" stroke=\"#4a4a4a\"/>\n",
       "<polygon fill=\"#4a4a4a\" points=\"53.2346,-45.6409 54.6957,-35.1473 47.0096,-42.4395 53.2346,-45.6409\" stroke=\"#4a4a4a\"/>\n",
       "</a>\n",
       "</g>\n",
       "</g>\n",
       "<!-- D2 -->\n",
       "<g class=\"node\" id=\"node2\"><title>D2</title>\n",
       "<g id=\"a_node2\"><a xlink:title=\"(1) D2\">\n",
       "<ellipse cx=\"99\" cy=\"-90\" fill=\"#404040\" rx=\"27\" ry=\"18\" stroke=\"black\"/>\n",
       "<text fill=\"#ffffff\" font-family=\"Times,serif\" font-size=\"14.00\" text-anchor=\"middle\" x=\"99\" y=\"-86.3\">D2</text>\n",
       "</a>\n",
       "</g>\n",
       "</g>\n",
       "<!-- D2&#45;&gt;M -->\n",
       "<g class=\"edge\" id=\"edge1\"><title>D2-&gt;M</title>\n",
       "<g id=\"a_edge1\"><a xlink:title=\"(1, 2) : \">\n",
       "<path d=\"M90.6504,-72.7646C86.2885,-64.2831 80.8531,-53.7144 75.9587,-44.1974\" fill=\"none\" stroke=\"#4a4a4a\"/>\n",
       "<polygon fill=\"#4a4a4a\" points=\"78.9904,-42.4395 71.3043,-35.1473 72.7654,-45.6409 78.9904,-42.4395\" stroke=\"#4a4a4a\"/>\n",
       "</a>\n",
       "</g>\n",
       "</g>\n",
       "</g>\n",
       "</svg>"
      ],
      "text/plain": [
       "<IPython.core.display.SVG object>"
      ]
     },
     "metadata": {},
     "output_type": "display_data"
    }
   ],
   "source": [
    "gnb.showBN(bn)"
   ]
  },
  {
   "cell_type": "code",
   "execution_count": 6,
   "metadata": {},
   "outputs": [
    {
     "data": {
      "text/html": [
       "<table>\n",
       "<tr style='color:black;background-color:#AAAAAA'><th colspan='6'><center>M</center></th></tr>\n",
       "<tr><th style='color:black;background-color:#BBBBBB'><center>1</center></th><th style='color:black;background-color:#BBBBBB'><center>2</center></th><th style='color:black;background-color:#BBBBBB'><center>3</center></th><th style='color:black;background-color:#BBBBBB'><center>4</center></th><th style='color:black;background-color:#BBBBBB'><center>5</center></th><th style='color:black;background-color:#BBBBBB'><center>6</center></th></tr>\n",
       "<tr><td style='color:black;background-color:#fb8264;text-align:right;'>0.0278</td><td style='color:black;background-color:#f48964;text-align:right;'>0.0833</td><td style='color:black;background-color:#ed9064;text-align:right;'>0.1389</td><td style='color:black;background-color:#e69764;text-align:right;'>0.1944</td><td style='color:black;background-color:#df9f64;text-align:right;'>0.2500</td><td style='color:black;background-color:#d7a664;text-align:right;'>0.3056</td></tr>\n",
       "</table>"
      ],
      "text/plain": [
       "(gum::Potential<double>@0x2d40c10) <M:1> :: 0.0277778 /<M:2> :: 0.0833333 /<M:3> :: 0.138889 /<M:4> :: 0.194444 /<M:5> :: 0.25 /<M:6> :: 0.305556"
      ]
     },
     "execution_count": 6,
     "metadata": {},
     "output_type": "execute_result"
    }
   ],
   "source": [
    "ie=gum.LazyPropagation(bn)\n",
    "ie.makeInference()\n",
    "ie.posterior(m)"
   ]
  },
  {
   "cell_type": "code",
   "execution_count": 7,
   "metadata": {},
   "outputs": [
    {
     "data": {
      "image/png": "[encoded data removed]",
      "text/plain": [
       "<Figure size 144x108 with 1 Axes>"
      ]
     },
     "metadata": {},
     "output_type": "display_data"
    },
    {
     "data": {
      "text/html": [
       "<table>\n",
       "<tr style='color:black;background-color:#AAAAAA'><th colspan='6'><center>M</center></th></tr>\n",
       "<tr><th style='color:black;background-color:#BBBBBB'><center>1</center></th><th style='color:black;background-color:#BBBBBB'><center>2</center></th><th style='color:black;background-color:#BBBBBB'><center>3</center></th><th style='color:black;background-color:#BBBBBB'><center>4</center></th><th style='color:black;background-color:#BBBBBB'><center>5</center></th><th style='color:black;background-color:#BBBBBB'><center>6</center></th></tr>\n",
       "<tr><td style='color:black;background-color:#fb8264;text-align:right;'>0.0278</td><td style='color:black;background-color:#f48964;text-align:right;'>0.0833</td><td style='color:black;background-color:#ed9064;text-align:right;'>0.1389</td><td style='color:black;background-color:#e69764;text-align:right;'>0.1944</td><td style='color:black;background-color:#df9f64;text-align:right;'>0.2500</td><td style='color:black;background-color:#d7a664;text-align:right;'>0.3056</td></tr>\n",
       "</table>"
      ],
      "text/plain": [
       "(gum::Potential<double>@0x377fed0) <M:1> :: 0.0277778 /<M:2> :: 0.0833333 /<M:3> :: 0.138889 /<M:4> :: 0.194444 /<M:5> :: 0.25 /<M:6> :: 0.305556"
      ]
     },
     "execution_count": 7,
     "metadata": {},
     "output_type": "execute_result"
    }
   ],
   "source": [
    "#histogramme\n",
    "gnb.showPosterior(bn,target='M',evs={})\n",
    "# liste\n",
    "# print(gum.getPosterior(bn,target='M',evs={}).tolist())\n",
    "# potentiel\n",
    "gum.getPosterior(bn,target='M',evs={})"
   ]
  },
  {
   "cell_type": "markdown",
   "metadata": {},
   "source": [
    "Vérifier la distribution de la loi de probabilité de ce même maximum lorsque l'on apprend que l'une valeur paire a été tirée sur l'un des dés."
   ]
  },
  {
   "cell_type": "code",
   "execution_count": 8,
   "metadata": {
    "jupyter": {
     "outputs_hidden": true
    }
   },
   "outputs": [
    {
     "data": {
      "text/html": [
       "<table>\n",
       "<tr style='color:black;background-color:#AAAAAA'><th colspan='6'><center>M</center></th></tr>\n",
       "<tr><th style='color:black;background-color:#BBBBBB'><center>1</center></th><th style='color:black;background-color:#BBBBBB'><center>2</center></th><th style='color:black;background-color:#BBBBBB'><center>3</center></th><th style='color:black;background-color:#BBBBBB'><center>4</center></th><th style='color:black;background-color:#BBBBBB'><center>5</center></th><th style='color:black;background-color:#BBBBBB'><center>6</center></th></tr>\n",
       "<tr><td style='color:black;background-color:#ff7f64;text-align:right;'>0.0000</td><td style='color:black;background-color:#f08d64;text-align:right;'>0.1111</td><td style='color:black;background-color:#f78664;text-align:right;'>0.0556</td><td style='color:black;background-color:#dba264;text-align:right;'>0.2778</td><td style='color:black;background-color:#f08d64;text-align:right;'>0.1111</td><td style='color:black;background-color:#c6b764;text-align:right;'>0.4444</td></tr>\n",
       "</table>"
      ],
      "text/plain": [
       "(gum::Potential<double>@0x38e4570) <M:1> :: 0 /<M:2> :: 0.111111 /<M:3> :: 0.0555556 /<M:4> :: 0.277778 /<M:5> :: 0.111111 /<M:6> :: 0.444444"
      ]
     },
     "execution_count": 8,
     "metadata": {},
     "output_type": "execute_result"
    }
   ],
   "source": [
    "ie.setEvidence({'D1': [0,1,0,1,0,1]}) \n",
    "ie.makeInference()\n",
    "ie.posterior(m)"
   ]
  }
 ],
 "metadata": {
  "kernelspec": {
   "display_name": "Python 3",
   "language": "python",
   "name": "python3"
  },
  "language_info": {
   "codemirror_mode": {
    "name": "ipython",
    "version": 3
   },
   "file_extension": ".py",
   "mimetype": "text/x-python",
   "name": "python",
   "nbconvert_exporter": "python",
   "pygments_lexer": "ipython3",
   "version": "3.6.9"
  }
 },
 "nbformat": 4,
 "nbformat_minor": 4
}
