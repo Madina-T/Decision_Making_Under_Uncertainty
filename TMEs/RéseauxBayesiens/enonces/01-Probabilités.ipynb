{
 "cells": [
  {
   "cell_type": "code",
   "execution_count": 1,
   "metadata": {},
   "outputs": [],
   "source": [
    "import pyAgrum as gum\n",
    "import pyAgrum.lib.notebook as gnb\n",
    "from IPython.display import display, Math, Latex"
   ]
  },
  {
   "cell_type": "markdown",
   "metadata": {},
   "source": [
    "# Daltonisme bayésien\n",
    "\n",
    "Environ 8% des hommes et 0.5% des femmes sont, à des degrés divers, daltoniens."
   ]
  },
  {
   "cell_type": "markdown",
   "metadata": {},
   "source": [
    "## Question 1\n",
    "\n",
    "Calculer le pourcentage de femmes parmi les daltoniens (en ajoutant une hypothèse a priori que vous préciserez)"
   ]
  },
  {
   "cell_type": "code",
   "execution_count": 2,
   "metadata": {},
   "outputs": [],
   "source": [
    "G = gum.LabelizedVariable('G','Gender',[\"M\",\"F\"])\n",
    "C = gum.LabelizedVariable('C','Colorblindness',[\"Y\",\"N\"])"
   ]
  },
  {
   "cell_type": "markdown",
   "metadata": {},
   "source": [
    "On fait l'hypothèse qu'il y a un peu moins d'hommes que de femmes sur Terre."
   ]
  },
  {
   "cell_type": "code",
   "execution_count": 5,
   "metadata": {},
   "outputs": [
    {
     "data": {
      "text/latex": [
       "$\\displaystyle P(G)$"
      ],
      "text/plain": [
       "<IPython.core.display.Math object>"
      ]
     },
     "metadata": {},
     "output_type": "display_data"
    },
    {
     "data": {
      "text/html": [
       "<table style=\"border:1px solid black;\"><tr style='border:1px solid black;color:black;background-color:#808080'><th colspan='2'><center>G</center></th></tr><tr><th style='border:1px solid black;border-bottom-style: double;color:black;background-color:#BBBBBB'><center>M</center></th><th style='border:1px solid black;border-bottom-style: double;color:black;background-color:#BBBBBB'><center>F</center></th></tr><tr><td style='color:black;background-color:#c1bc64;text-align:right;'>0.4800</td><td style='color:black;background-color:#bcc164;text-align:right;'>0.5200</td></tr></table>"
      ],
      "text/plain": [
       "<IPython.core.display.HTML object>"
      ]
     },
     "metadata": {},
     "output_type": "display_data"
    }
   ],
   "source": [
    "display(Math(r\"$P(G)$\"))\n",
    "pG = gum.Potential().add(G).fillWith([0.48,0.52])\n",
    "gnb.showPotential(pG)"
   ]
  },
  {
   "cell_type": "code",
   "execution_count": 4,
   "metadata": {},
   "outputs": [
    {
     "data": {
      "text/latex": [
       "$\\displaystyle P(C|G)$"
      ],
      "text/plain": [
       "<IPython.core.display.Math object>"
      ]
     },
     "metadata": {},
     "output_type": "display_data"
    },
    {
     "data": {
      "text/html": [
       "<table style=\"border:1px solid black;\"><tr><th colspan='1'></th><th colspan='2' style='border:1px solid black;color:black;background-color:#808080;'><center>C</center></th></tr><tr><th style='border:1px solid black;color:black;background-color:#808080'><center>G</center></th><th style='border:1px solid black;border-bottom-style: double;color:black;background-color:#BBBBBB'><center>Y</center></th><th style='border:1px solid black;border-bottom-style: double;color:black;background-color:#BBBBBB'><center>N</center></th></tr><tr><th style='border:1px solid black;color:black;background-color:#BBBBBB'><center>M</center></th><td style='color:black;background-color:#f48964;text-align:right;'>0.0800</td><td style='color:black;background-color:#89f464;text-align:right;'>0.9200</td></tr><tr><th style='border:1px solid black;color:black;background-color:#BBBBBB'><center>F</center></th><td style='color:black;background-color:#fe7f64;text-align:right;'>0.0050</td><td style='color:black;background-color:#7ffe64;text-align:right;'>0.9950</td></tr></table>"
      ],
      "text/plain": [
       "<IPython.core.display.HTML object>"
      ]
     },
     "metadata": {},
     "output_type": "display_data"
    }
   ],
   "source": [
    "display(Math(r\"$P(C|G)$\"))\n",
    "pCsG = gum.Potential().add(C).add(G).fillWith([0.08,0.92,0.005,0.995])\n",
    "gnb.showPotential(pCsG)"
   ]
  },
  {
   "cell_type": "code",
   "execution_count": 5,
   "metadata": {},
   "outputs": [
    {
     "data": {
      "text/latex": [
       "$\\displaystyle P(C,G)$"
      ],
      "text/plain": [
       "<IPython.core.display.Math object>"
      ]
     },
     "metadata": {},
     "output_type": "display_data"
    },
    {
     "data": {
      "text/html": [
       "<table><tr><th colspan='1'></th><th colspan='2' style='color:black;background-color:#AAAAAA'><center>G</center></th></tr><tr><th style='color:black;background-color:#AAAAAA'><center>C</center></th><th style='color:black;background-color:#BBBBBB'><center>M</center></th><th style='color:black;background-color:#BBBBBB'><center>F</center></th></tr><tr><th style='color:black;background-color:#BBBBBB'><center>Y</center></th><td style='color:black;background-color:#fa8364;text-align:right;'>0.0384</td><td style='color:black;background-color:#fe7f64;text-align:right;'>0.0026</td></tr><tr><th style='color:black;background-color:#BBBBBB'><center>N</center></th><td style='color:black;background-color:#c6b764;text-align:right;'>0.4416</td><td style='color:black;background-color:#bcc164;text-align:right;'>0.5174</td></tr></table>"
      ],
      "text/plain": [
       "<IPython.core.display.HTML object>"
      ]
     },
     "metadata": {},
     "output_type": "display_data"
    }
   ],
   "source": [
    "pCG = pCsG*pG\n",
    "display(Math(r\"$P(C,G)$\"))\n",
    "gnb.showPotential(pCG)"
   ]
  },
  {
   "cell_type": "code",
   "execution_count": 6,
   "metadata": {},
   "outputs": [
    {
     "data": {
      "text/latex": [
       "$\\displaystyle P(C)$"
      ],
      "text/plain": [
       "<IPython.core.display.Math object>"
      ]
     },
     "metadata": {},
     "output_type": "display_data"
    },
    {
     "data": {
      "text/html": [
       "<table><tr style='color:black;background-color:#AAAAAA'><th colspan='2'><center>C</center></th></tr><tr><th style='color:black;background-color:#BBBBBB'><center>Y</center></th><th style='color:black;background-color:#BBBBBB'><center>N</center></th></tr><tr><td style='color:black;background-color:#f98464;text-align:right;'>0.0410</td><td style='color:black;background-color:#84f964;text-align:right;'>0.9590</td></tr></table>"
      ],
      "text/plain": [
       "<IPython.core.display.HTML object>"
      ]
     },
     "metadata": {},
     "output_type": "display_data"
    }
   ],
   "source": [
    "pC = pCG.margSumOut(['G'])\n",
    "display(Math(r\"$P(C)$\"))\n",
    "gnb.showPotential(pC)"
   ]
  },
  {
   "cell_type": "code",
   "execution_count": 7,
   "metadata": {},
   "outputs": [
    {
     "data": {
      "text/latex": [
       "$\\displaystyle P(G|C)$"
      ],
      "text/plain": [
       "<IPython.core.display.Math object>"
      ]
     },
     "metadata": {},
     "output_type": "display_data"
    },
    {
     "data": {
      "text/html": [
       "<table><tr><th colspan='1'></th><th colspan='2' style='color:black;background-color:#AAAAAA'><center>C</center></th></tr><tr><th style='color:black;background-color:#AAAAAA'><center>G</center></th><th style='color:black;background-color:#BBBBBB'><center>Y</center></th><th style='color:black;background-color:#BBBBBB'><center>N</center></th></tr><tr><th style='color:black;background-color:#BBBBBB'><center>M</center></th><td style='color:black;background-color:#87f664;text-align:right;'>0.9366</td><td style='color:black;background-color:#c4b964;text-align:right;'>0.4605</td></tr><tr><th style='color:black;background-color:#BBBBBB'><center>F</center></th><td style='color:black;background-color:#f68764;text-align:right;'>0.0634</td><td style='color:black;background-color:#b9c464;text-align:right;'>0.5395</td></tr></table>"
      ],
      "text/plain": [
       "<IPython.core.display.HTML object>"
      ]
     },
     "metadata": {},
     "output_type": "display_data"
    }
   ],
   "source": [
    "pGsC = pCG/pC\n",
    "display(Math(r\"$P(G|C)$\"))\n",
    "gnb.showPotential(pGsC)"
   ]
  },
  {
   "cell_type": "code",
   "execution_count": 8,
   "metadata": {},
   "outputs": [
    {
     "name": "stdout",
     "output_type": "stream",
     "text": [
      "Il y a 6.34 % de femmes parmi les daltoniens.\n"
     ]
    }
   ],
   "source": [
    "print(\"Il y a\", round(pGsC[{\"C\":\"Y\",\"G\":\"F\"}]*100,2), \"% de femmes parmi les daltoniens.\")"
   ]
  },
  {
   "cell_type": "markdown",
   "metadata": {},
   "source": [
    "## Question 2\n",
    "\n",
    "Construire le réseau bayésien qui représente ce problème et vérifier cette valeur par propagation."
   ]
  },
  {
   "cell_type": "code",
   "execution_count": 6,
   "metadata": {},
   "outputs": [],
   "source": [
    "bn=gum.BayesNet('BayesianColorblindness')"
   ]
  },
  {
   "cell_type": "code",
   "execution_count": 7,
   "metadata": {},
   "outputs": [],
   "source": [
    "G=bn.add(gum.LabelizedVariable('G','Gender',[\"M\",\"F\"]))"
   ]
  },
  {
   "cell_type": "code",
   "execution_count": 8,
   "metadata": {},
   "outputs": [],
   "source": [
    "C=bn.add(gum.LabelizedVariable('C','Colorblindness',[\"Y\",\"N\"]))"
   ]
  },
  {
   "cell_type": "code",
   "execution_count": 9,
   "metadata": {},
   "outputs": [],
   "source": [
    "bn.addArc(G,C)"
   ]
  },
  {
   "cell_type": "code",
   "execution_count": 10,
   "metadata": {},
   "outputs": [
    {
     "data": {
      "text/html": [
       "<svg height=\"116pt\" viewBox=\"0.00 0.00 62.00 116.00\" width=\"62pt\" xmlns=\"http://www.w3.org/2000/svg\" xmlns:xlink=\"http://www.w3.org/1999/xlink\">\n",
       "<g class=\"graph\" id=\"graph0\" transform=\"scale(1 1) rotate(0) translate(4 112)\">\n",
       "<title>G</title>\n",
       "<!-- G -->\n",
       "<g class=\"node\" id=\"node1\">\n",
       "<title>G</title>\n",
       "<g id=\"a_node1\"><a xlink:title=\"(0) G\">\n",
       "<ellipse cx=\"27\" cy=\"-90\" fill=\"#404040\" rx=\"27\" ry=\"18\" stroke=\"#000000\"/>\n",
       "<text fill=\"#ffffff\" font-family=\"Times,serif\" font-size=\"14.00\" text-anchor=\"middle\" x=\"27\" y=\"-86.3\">G</text>\n",
       "</a>\n",
       "</g>\n",
       "</g>\n",
       "<!-- C -->\n",
       "<g class=\"node\" id=\"node2\">\n",
       "<title>C</title>\n",
       "<g id=\"a_node2\"><a xlink:title=\"(1) C\">\n",
       "<ellipse cx=\"27\" cy=\"-18\" fill=\"#404040\" rx=\"27\" ry=\"18\" stroke=\"#000000\"/>\n",
       "<text fill=\"#ffffff\" font-family=\"Times,serif\" font-size=\"14.00\" text-anchor=\"middle\" x=\"27\" y=\"-14.3\">C</text>\n",
       "</a>\n",
       "</g>\n",
       "</g>\n",
       "<!-- G&#45;&gt;C -->\n",
       "<g class=\"edge\" id=\"edge1\">\n",
       "<title>G-&gt;C</title>\n",
       "<g id=\"a_edge1\"><a xlink:title=\"(0, 1) : \">\n",
       "<path d=\"M27,-71.8314C27,-64.131 27,-54.9743 27,-46.4166\" fill=\"none\" stroke=\"#4a4a4a\"/>\n",
       "<polygon fill=\"#4a4a4a\" points=\"30.5001,-46.4132 27,-36.4133 23.5001,-46.4133 30.5001,-46.4132\" stroke=\"#4a4a4a\"/>\n",
       "</a>\n",
       "</g>\n",
       "</g>\n",
       "</g>\n",
       "</svg>"
      ],
      "text/plain": [
       "(gum::BayesNet<double>@0x5648ad482370) BN{nodes: 2, arcs: 1, domainSize: 4, dim: 6}"
      ]
     },
     "execution_count": 10,
     "metadata": {},
     "output_type": "execute_result"
    }
   ],
   "source": [
    "bn"
   ]
  },
  {
   "cell_type": "code",
   "execution_count": 11,
   "metadata": {},
   "outputs": [
    {
     "data": {
      "text/html": [
       "<table style=\"border:1px solid black;\">\n",
       "<tr style='border:1px solid black;color:black;background-color:#808080'><th colspan='2'><center>G</center></th></tr>\n",
       "<tr><th style='border:1px solid black;border-bottom-style: double;color:black;background-color:#BBBBBB'><center>M</center></th><th style='border:1px solid black;border-bottom-style: double;color:black;background-color:#BBBBBB'><center>F</center></th></tr>\n",
       "<tr><td style='color:black;background-color:#c1bc64;text-align:right;'>0.4800</td><td style='color:black;background-color:#bcc164;text-align:right;'>0.5200</td></tr>\n",
       "</table>"
      ],
      "text/plain": [
       "(gum::Potential<double>@0x5648ac7b7420) <G:M> :: 0.48 /<G:F> :: 0.52"
      ]
     },
     "execution_count": 11,
     "metadata": {},
     "output_type": "execute_result"
    }
   ],
   "source": [
    "bn.cpt(G).fillWith([0.48,0.52])"
   ]
  },
  {
   "cell_type": "code",
   "execution_count": 12,
   "metadata": {},
   "outputs": [
    {
     "data": {
      "text/html": [
       "<table style=\"border:1px solid black;\">\n",
       "<tr><th colspan='1'></th><th colspan='2' style='border:1px solid black;color:black;background-color:#808080;'><center>C</center></th></tr>\n",
       "<tr><th style='border:1px solid black;color:black;background-color:#808080'><center>G</center></th><th style='border:1px solid black;border-bottom-style: double;color:black;background-color:#BBBBBB'><center>Y</center></th><th style='border:1px solid black;border-bottom-style: double;color:black;background-color:#BBBBBB'><center>N</center></th></tr>\n",
       "<tr><th style='border:1px solid black;color:black;background-color:#BBBBBB'><center>M</center></th><td style='color:black;background-color:#f48964;text-align:right;'>0.0800</td><td style='color:black;background-color:#89f464;text-align:right;'>0.9200</td></tr>\n",
       "<tr><th style='border:1px solid black;color:black;background-color:#BBBBBB'><center>F</center></th><td style='color:black;background-color:#fe7f64;text-align:right;'>0.0050</td><td style='color:black;background-color:#7ffe64;text-align:right;'>0.9950</td></tr>\n",
       "</table>"
      ],
      "text/plain": [
       "(gum::Potential<double>@0x5648acaf6620) <C:Y|G:M> :: 0.08 /<C:N|G:M> :: 0.92 /<C:Y|G:F> :: 0.005 /<C:N|G:F> :: 0.995"
      ]
     },
     "execution_count": 12,
     "metadata": {},
     "output_type": "execute_result"
    }
   ],
   "source": [
    "bn.cpt(C)[{'G':0}]=[0.08,0.92]\n",
    "bn.cpt(C)[{'G':1}]=[0.005,0.995]\n",
    "bn.cpt(C)"
   ]
  },
  {
   "cell_type": "code",
   "execution_count": 13,
   "metadata": {},
   "outputs": [],
   "source": [
    "gum.saveBN(bn,\"BayesianColorblindness.bif\")"
   ]
  },
  {
   "cell_type": "code",
   "execution_count": 14,
   "metadata": {
    "scrolled": true
   },
   "outputs": [
    {
     "name": "stdout",
     "output_type": "stream",
     "text": [
      "network \"BayesianColorblindness\" {\n",
      "// written by aGrUM 0.16.4\n",
      "}\n",
      "\n",
      "variable G {\n",
      "   type discrete[2] {M, F};\n",
      "}\n",
      "\n",
      "variable C {\n",
      "   type discrete[2] {Y, N};\n",
      "}\n",
      "\n",
      "probability (G) {\n",
      "   default 0.48 0.52;\n",
      "}\n",
      "probability (C | G) {\n",
      "   (M) 0.08 0.92;\n",
      "   (F) 0.005 0.995;\n",
      "}\n",
      "\n",
      "\n"
     ]
    }
   ],
   "source": [
    "with open(\"BayesianColorblindness.bif\",\"r\") as out:\n",
    "    print(out.read())"
   ]
  },
  {
   "cell_type": "code",
   "execution_count": 15,
   "metadata": {},
   "outputs": [
    {
     "data": {
      "text/html": [
       "<table style=\"border:1px solid black;\">\n",
       "<tr style='border:1px solid black;color:black;background-color:#808080'><th colspan='2'><center>G</center></th></tr>\n",
       "<tr><th style='border:1px solid black;border-bottom-style: double;color:black;background-color:#BBBBBB'><center>M</center></th><th style='border:1px solid black;border-bottom-style: double;color:black;background-color:#BBBBBB'><center>F</center></th></tr>\n",
       "<tr><td style='color:black;background-color:#87f664;text-align:right;'>0.9366</td><td style='color:black;background-color:#f68764;text-align:right;'>0.0634</td></tr>\n",
       "</table>"
      ],
      "text/plain": [
       "(gum::Potential<double>@0x5648acc25ea0) <G:M> :: 0.936585 /<G:F> :: 0.0634146"
      ]
     },
     "execution_count": 15,
     "metadata": {},
     "output_type": "execute_result"
    }
   ],
   "source": [
    "ie=gum.LazyPropagation(bn)\n",
    "ie.setEvidence({'C':\"Y\"})\n",
    "ie.makeInference()\n",
    "ie.posterior(G)"
   ]
  },
  {
   "cell_type": "code",
   "execution_count": 16,
   "metadata": {},
   "outputs": [
    {
     "data": {
      "image/svg+xml": [
       "<svg height=\"116pt\" viewBox=\"0.00 0.00 62.00 116.00\" width=\"62pt\" xmlns=\"http://www.w3.org/2000/svg\" xmlns:xlink=\"http://www.w3.org/1999/xlink\">\n",
       "<g class=\"graph\" id=\"graph0\" transform=\"scale(1 1) rotate(0) translate(4 112)\">\n",
       "<title>G</title>\n",
       "<!-- G -->\n",
       "<g class=\"node\" id=\"node1\">\n",
       "<title>G</title>\n",
       "<g id=\"a_node1\"><a xlink:title=\"(0) G\">\n",
       "<ellipse cx=\"27\" cy=\"-18\" fill=\"#404040\" rx=\"27\" ry=\"18\" stroke=\"#000000\"/>\n",
       "<text fill=\"#ffffff\" font-family=\"Times,serif\" font-size=\"14.00\" text-anchor=\"middle\" x=\"27\" y=\"-14.3\">G</text>\n",
       "</a>\n",
       "</g>\n",
       "</g>\n",
       "<!-- C -->\n",
       "<g class=\"node\" id=\"node2\">\n",
       "<title>C</title>\n",
       "<g id=\"a_node2\"><a xlink:title=\"(1) C\">\n",
       "<ellipse cx=\"27\" cy=\"-90\" fill=\"#404040\" rx=\"27\" ry=\"18\" stroke=\"#000000\"/>\n",
       "<text fill=\"#ffffff\" font-family=\"Times,serif\" font-size=\"14.00\" text-anchor=\"middle\" x=\"27\" y=\"-86.3\">C</text>\n",
       "</a>\n",
       "</g>\n",
       "</g>\n",
       "<!-- C&#45;&gt;G -->\n",
       "<g class=\"edge\" id=\"edge1\">\n",
       "<title>C-&gt;G</title>\n",
       "<g id=\"a_edge1\"><a xlink:title=\"(1, 0) : \">\n",
       "<path d=\"M27,-71.8314C27,-64.131 27,-54.9743 27,-46.4166\" fill=\"none\" stroke=\"#4a4a4a\"/>\n",
       "<polygon fill=\"#4a4a4a\" points=\"30.5001,-46.4132 27,-36.4133 23.5001,-46.4133 30.5001,-46.4132\" stroke=\"#4a4a4a\"/>\n",
       "</a>\n",
       "</g>\n",
       "</g>\n",
       "</g>\n",
       "</svg>"
      ],
      "text/plain": [
       "<IPython.core.display.SVG object>"
      ]
     },
     "metadata": {},
     "output_type": "display_data"
    }
   ],
   "source": [
    "bn.reverseArc(G,C)\n",
    "gnb.showBN(bn)"
   ]
  },
  {
   "cell_type": "code",
   "execution_count": 17,
   "metadata": {},
   "outputs": [
    {
     "data": {
      "text/html": [
       "<table style=\"border:1px solid black;\"><tr><th colspan='1'></th><th colspan='2' style='border:1px solid black;color:black;background-color:#808080;'><center>G</center></th></tr><tr><th style='border:1px solid black;color:black;background-color:#808080'><center>C</center></th><th style='border:1px solid black;border-bottom-style: double;color:black;background-color:#BBBBBB'><center>M</center></th><th style='border:1px solid black;border-bottom-style: double;color:black;background-color:#BBBBBB'><center>F</center></th></tr><tr><th style='border:1px solid black;color:black;background-color:#BBBBBB'><center>Y</center></th><td style='color:black;background-color:#87f664;text-align:right;'>0.9366</td><td style='color:black;background-color:#f68764;text-align:right;'>0.0634</td></tr><tr><th style='border:1px solid black;color:black;background-color:#BBBBBB'><center>N</center></th><td style='color:black;background-color:#c4b964;text-align:right;'>0.4605</td><td style='color:black;background-color:#b9c464;text-align:right;'>0.5395</td></tr></table>"
      ],
      "text/plain": [
       "<IPython.core.display.HTML object>"
      ]
     },
     "metadata": {},
     "output_type": "display_data"
    }
   ],
   "source": [
    "gnb.showPotential(bn.cpt(G))"
   ]
  }
 ],
 "metadata": {
  "kernelspec": {
   "display_name": "Python 3",
   "language": "python",
   "name": "python3"
  },
  "language_info": {
   "codemirror_mode": {
    "name": "ipython",
    "version": 3
   },
   "file_extension": ".py",
   "mimetype": "text/x-python",
   "name": "python",
   "nbconvert_exporter": "python",
   "pygments_lexer": "ipython3",
   "version": "3.6.9"
  }
 },
 "nbformat": 4,
 "nbformat_minor": 4
}
