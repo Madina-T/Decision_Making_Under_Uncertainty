{
 "cells": [
  {
   "cell_type": "code",
   "execution_count": 1,
   "metadata": {},
   "outputs": [],
   "source": [
    "import pyAgrum as gum\n",
    "import pyAgrum.lib.notebook as gnb\n",
    "#from pyAgrum.lib.pretty_print import pretty_cpt\n",
    "\n",
    "from IPython.display import display, Math, Latex"
   ]
  },
  {
   "cell_type": "markdown",
   "metadata": {},
   "source": [
    "# Exercice 3\n",
    "\n",
    "Trois coffres contiennent respectivement une pièce d'or et une pièce d'argent, 2 pièces d'or et 2 pièces d'argent. On choisit une pièce dans un des trois coffres. C'est une pièce d'or. Quelle est la probabilité pour que la seconde pièce soit également en or ?\n",
    "(Problème posé par le mathématicient Joseph Bertrand)"
   ]
  },
  {
   "cell_type": "code",
   "execution_count": 2,
   "metadata": {},
   "outputs": [],
   "source": [
    "bn=gum.BayesNet()\n",
    "\n",
    "C=bn.add(gum.RangeVariable(\"C\",\"Coffre\",1,3))\n",
    "P1=bn.add(gum.LabelizedVariable(\"P1\",\"Piece 1\",[\"Or\",\"Argent\"]))\n",
    "P2=bn.add(gum.LabelizedVariable(\"P2\",\"Piece 2\",[\"Or\",\"Argent\"]))"
   ]
  },
  {
   "cell_type": "code",
   "execution_count": 3,
   "metadata": {},
   "outputs": [],
   "source": [
    "bn.addArc(C,P1)\n",
    "bn.addArc(C,P2)\n",
    "bn.addArc(P1,P2)"
   ]
  },
  {
   "cell_type": "code",
   "execution_count": 4,
   "metadata": {},
   "outputs": [
    {
     "data": {
      "image/svg+xml": [
       "<svg height=\"188pt\" viewBox=\"0.00 0.00 89.00 188.00\" width=\"89pt\" xmlns=\"http://www.w3.org/2000/svg\" xmlns:xlink=\"http://www.w3.org/1999/xlink\">\n",
       "<g class=\"graph\" id=\"graph0\" transform=\"scale(1 1) rotate(0) translate(4 184)\">\n",
       "<title>G</title>\n",
       "<!-- C -->\n",
       "<g class=\"node\" id=\"node1\"><title>C</title>\n",
       "<g id=\"a_node1\"><a xlink:title=\"(0) C\">\n",
       "<ellipse cx=\"54\" cy=\"-162\" fill=\"#404040\" rx=\"27\" ry=\"18\" stroke=\"black\"/>\n",
       "<text fill=\"#ffffff\" font-family=\"Times,serif\" font-size=\"14.00\" text-anchor=\"middle\" x=\"54\" y=\"-158.3\">C</text>\n",
       "</a>\n",
       "</g>\n",
       "</g>\n",
       "<!-- P1 -->\n",
       "<g class=\"node\" id=\"node2\"><title>P1</title>\n",
       "<g id=\"a_node2\"><a xlink:title=\"(1) P1\">\n",
       "<ellipse cx=\"27\" cy=\"-90\" fill=\"#404040\" rx=\"27\" ry=\"18\" stroke=\"black\"/>\n",
       "<text fill=\"#ffffff\" font-family=\"Times,serif\" font-size=\"14.00\" text-anchor=\"middle\" x=\"27\" y=\"-86.3\">P1</text>\n",
       "</a>\n",
       "</g>\n",
       "</g>\n",
       "<!-- C&#45;&gt;P1 -->\n",
       "<g class=\"edge\" id=\"edge1\"><title>C-&gt;P1</title>\n",
       "<g id=\"a_edge1\"><a xlink:title=\"(0, 1) : \">\n",
       "<path d=\"M47.6014,-144.411C44.4864,-136.335 40.6663,-126.431 37.1654,-117.355\" fill=\"none\" stroke=\"#4a4a4a\"/>\n",
       "<polygon fill=\"#4a4a4a\" points=\"40.4045,-116.027 33.5403,-107.956 33.8735,-118.546 40.4045,-116.027\" stroke=\"#4a4a4a\"/>\n",
       "</a>\n",
       "</g>\n",
       "</g>\n",
       "<!-- P2 -->\n",
       "<g class=\"node\" id=\"node3\"><title>P2</title>\n",
       "<g id=\"a_node3\"><a xlink:title=\"(2) P2\">\n",
       "<ellipse cx=\"54\" cy=\"-18\" fill=\"#404040\" rx=\"27\" ry=\"18\" stroke=\"black\"/>\n",
       "<text fill=\"#ffffff\" font-family=\"Times,serif\" font-size=\"14.00\" text-anchor=\"middle\" x=\"54\" y=\"-14.3\">P2</text>\n",
       "</a>\n",
       "</g>\n",
       "</g>\n",
       "<!-- C&#45;&gt;P2 -->\n",
       "<g class=\"edge\" id=\"edge2\"><title>C-&gt;P2</title>\n",
       "<g id=\"a_edge2\"><a xlink:title=\"(0, 2) : \">\n",
       "<path d=\"M57.6538,-143.908C59.6758,-133.569 61.9808,-120.09 63,-108 64.3441,-92.0566 64.3441,-87.9434 63,-72 62.2834,-63.4991 60.9311,-54.3119 59.4884,-46.0122\" fill=\"none\" stroke=\"#4a4a4a\"/>\n",
       "<polygon fill=\"#4a4a4a\" points=\"62.9142,-45.2892 57.6538,-36.0925 56.0309,-46.5623 62.9142,-45.2892\" stroke=\"#4a4a4a\"/>\n",
       "</a>\n",
       "</g>\n",
       "</g>\n",
       "<!-- P1&#45;&gt;P2 -->\n",
       "<g class=\"edge\" id=\"edge3\"><title>P1-&gt;P2</title>\n",
       "<g id=\"a_edge3\"><a xlink:title=\"(1, 2) : \">\n",
       "<path d=\"M33.3986,-72.411C36.5136,-64.3352 40.3337,-54.4312 43.8346,-45.3547\" fill=\"none\" stroke=\"#4a4a4a\"/>\n",
       "<polygon fill=\"#4a4a4a\" points=\"47.1265,-46.5458 47.4597,-35.9562 40.5955,-44.0267 47.1265,-46.5458\" stroke=\"#4a4a4a\"/>\n",
       "</a>\n",
       "</g>\n",
       "</g>\n",
       "</g>\n",
       "</svg>"
      ],
      "text/plain": [
       "<IPython.core.display.SVG object>"
      ]
     },
     "metadata": {},
     "output_type": "display_data"
    }
   ],
   "source": [
    "gnb.showBN(bn)"
   ]
  },
  {
   "cell_type": "code",
   "execution_count": 5,
   "metadata": {},
   "outputs": [
    {
     "data": {
      "text/html": [
       "<table>\n",
       "<tr style='color:black;background-color:#AAAAAA'><th colspan='3'><center>C</center></th></tr>\n",
       "<tr><th style='color:black;background-color:#BBBBBB'><center>1</center></th><th style='color:black;background-color:#BBBBBB'><center>2</center></th><th style='color:black;background-color:#BBBBBB'><center>3</center></th></tr>\n",
       "<tr><td style='color:black;background-color:#d4a964;text-align:right;'>0.3333</td><td style='color:black;background-color:#d4a964;text-align:right;'>0.3333</td><td style='color:black;background-color:#d4a964;text-align:right;'>0.3333</td></tr>\n",
       "</table>"
      ],
      "text/plain": [
       "(gum::Potential<double>@0x24d0aa0) <C:1> :: 0.333333 /<C:2> :: 0.333333 /<C:3> :: 0.333333"
      ]
     },
     "execution_count": 5,
     "metadata": {},
     "output_type": "execute_result"
    }
   ],
   "source": [
    "bn.cpt(C).fillWith([1]*3).normalize()"
   ]
  },
  {
   "cell_type": "code",
   "execution_count": 6,
   "metadata": {},
   "outputs": [
    {
     "data": {
      "text/html": [
       "<table>\n",
       "<tr><th colspan='1'></th><th colspan='2' style='color:black;background-color:#AAAAAA'><center>P1</center></th></tr>\n",
       "<tr><th style='color:black;background-color:#AAAAAA'><center>C</center></th><th style='color:black;background-color:#BBBBBB'><center>Or</center></th><th style='color:black;background-color:#BBBBBB'><center>Argent</center></th></tr>\n",
       "<tr><th style='color:black;background-color:#BBBBBB'><center>1</center></th><td style='color:black;background-color:#bfbf64;text-align:right;'>0.5000</td><td style='color:black;background-color:#bfbf64;text-align:right;'>0.5000</td></tr>\n",
       "<tr><th style='color:black;background-color:#BBBBBB'><center>2</center></th><td style='color:black;background-color:#7fff64;text-align:right;'>1.0000</td><td style='color:black;background-color:#ff7f64;text-align:right;'>0.0000</td></tr>\n",
       "<tr><th style='color:black;background-color:#BBBBBB'><center>3</center></th><td style='color:black;background-color:#ff7f64;text-align:right;'>0.0000</td><td style='color:black;background-color:#7fff64;text-align:right;'>1.0000</td></tr>\n",
       "</table>"
      ],
      "text/plain": [
       "(gum::Potential<double>@0x25804e0) <P1:Or|C:1> :: 0.5 /<P1:Argent|C:1> :: 0.5 /<P1:Or|C:2> :: 1 /<P1:Argent|C:2> :: 0 /<P1:Or|C:3> :: 0 /<P1:Argent|C:3> :: 1"
      ]
     },
     "execution_count": 6,
     "metadata": {},
     "output_type": "execute_result"
    }
   ],
   "source": [
    "bn.cpt(P1).fillWith([1/2,1/2,1,0,0,1])"
   ]
  },
  {
   "cell_type": "code",
   "execution_count": 7,
   "metadata": {},
   "outputs": [
    {
     "data": {
      "text/html": [
       "<table>\n",
       "<tr><th colspan='2'></th><th colspan='2' style='color:black;background-color:#AAAAAA'><center>P2</center></th></tr>\n",
       "<tr><th style='color:black;background-color:#AAAAAA'><center>C</center></th><th style='color:black;background-color:#AAAAAA'><center>P1</center></th><th style='color:black;background-color:#BBBBBB'><center>Or</center></th><th style='color:black;background-color:#BBBBBB'><center>Argent</center></th></tr>\n",
       "<tr><th style='color:black;background-color:#BBBBBB'><center>1</center></th><th style='color:black;background-color:#BBBBBB;' rowspan = '3'><center>Or</center></th><td style='color:black;background-color:#ff7f64;text-align:right;'>0.0000</td><td style='color:black;background-color:#7fff64;text-align:right;'>1.0000</td></tr>\n",
       "<tr><th style='color:black;background-color:#BBBBBB'><center>2</center></th><td style='color:black;background-color:#7fff64;text-align:right;'>1.0000</td><td style='color:black;background-color:#ff7f64;text-align:right;'>0.0000</td></tr>\n",
       "<tr><th style='color:black;background-color:#BBBBBB'><center>3</center></th><td style='color:black;background-color:#bfbf64;text-align:right;'>0.5000</td><td style='color:black;background-color:#bfbf64;text-align:right;'>0.5000</td></tr>\n",
       "<tr><th style='color:black;background-color:#BBBBBB'><center>1</center></th><th style='color:black;background-color:#BBBBBB;' rowspan = '3'><center>Argent</center></th><td style='color:black;background-color:#7fff64;text-align:right;'>1.0000</td><td style='color:black;background-color:#ff7f64;text-align:right;'>0.0000</td></tr>\n",
       "<tr><th style='color:black;background-color:#BBBBBB'><center>2</center></th><td style='color:black;background-color:#bfbf64;text-align:right;'>0.5000</td><td style='color:black;background-color:#bfbf64;text-align:right;'>0.5000</td></tr>\n",
       "<tr><th style='color:black;background-color:#BBBBBB'><center>3</center></th><td style='color:black;background-color:#ff7f64;text-align:right;'>0.0000</td><td style='color:black;background-color:#7fff64;text-align:right;'>1.0000</td></tr>\n",
       "</table>"
      ],
      "text/plain": [
       "(gum::Potential<double>@0x220e640) <P2:Or|C:1|P1:Or> :: 0 /<P2:Argent|C:1|P1:Or> :: 1 /<P2:Or|C:2|P1:Or> :: 1 /<P2:Argent|C:2|P1:Or> :: 0 /<P2:Or|C:3|P1:Or> :: 0.5 /<P2:Argent|C:3|P1:Or> :: 0.5 /<P2:Or|C:1|P1:Argent> :: 1 /<P2:Argent|C:1|P1:Argent> :: 0 /<P2:Or|C:2|P1:Argent> :: 0.5 /<P2:Argent|C:2|P1:Argent> :: 0.5 /<P2:Or|C:3|P1:Argent> :: 0 /<P2:Argent|C:3|P1:Argent> :: 1"
      ]
     },
     "execution_count": 7,
     "metadata": {},
     "output_type": "execute_result"
    }
   ],
   "source": [
    "bn.cpt(P2).fillWith([0,1,1,0,1/2,1/2,1,0,1/2,1/2,0,1])"
   ]
  },
  {
   "cell_type": "code",
   "execution_count": 8,
   "metadata": {},
   "outputs": [
    {
     "data": {
      "text/html": [
       "<table>\n",
       "<tr style='color:black;background-color:#AAAAAA'><th colspan='2'><center>P2</center></th></tr>\n",
       "<tr><th style='color:black;background-color:#BBBBBB'><center>Or</center></th><th style='color:black;background-color:#BBBBBB'><center>Argent</center></th></tr>\n",
       "<tr><td style='color:black;background-color:#a9d464;text-align:right;'>0.6667</td><td style='color:black;background-color:#d4a964;text-align:right;'>0.3333</td></tr>\n",
       "</table>"
      ],
      "text/plain": [
       "(gum::Potential<double>@0x2643f10) <P2:Or> :: 0.666667 /<P2:Argent> :: 0.333333"
      ]
     },
     "execution_count": 8,
     "metadata": {},
     "output_type": "execute_result"
    }
   ],
   "source": [
    "ie=gum.LazyPropagation(bn)\n",
    "ie.setEvidence({'P1': \"Or\"}) \n",
    "ie.makeInference()\n",
    "ie.posterior(P2)"
   ]
  }
 ],
 "metadata": {
  "kernelspec": {
   "display_name": "Python 3",
   "language": "python",
   "name": "python3"
  },
  "language_info": {
   "codemirror_mode": {
    "name": "ipython",
    "version": 3
   },
   "file_extension": ".py",
   "mimetype": "text/x-python",
   "name": "python",
   "nbconvert_exporter": "python",
   "pygments_lexer": "ipython3",
   "version": "3.6.9"
  }
 },
 "nbformat": 4,
 "nbformat_minor": 1
}
